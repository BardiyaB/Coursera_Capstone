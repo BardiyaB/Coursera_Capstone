{
 "cells": [
  {
   "cell_type": "markdown",
   "metadata": {},
   "source": [
    "# WEEK 4:"
   ]
  },
  {
   "cell_type": "code",
   "execution_count": 1,
   "metadata": {},
   "outputs": [],
   "source": [
    "import pandas as pd\n",
    "import numpy as np\n",
    "import time\n",
    "from sklearn.cluster import KMeans\n",
    "\n",
    "from bs4 import BeautifulSoup\n",
    "import requests\n",
    "import geocoder # import geocoder\n",
    "from geopy.geocoders import Nominatim \n",
    "import folium # map rendering library\n",
    "\n",
    "import matplotlib.cm as cm\n",
    "import matplotlib.colors as colors\n",
    "import matplotlib.pyplot as plt\n",
    "%matplotlib inline"
   ]
  },
  {
   "cell_type": "code",
   "execution_count": 2,
   "metadata": {},
   "outputs": [],
   "source": [
    "CLIENT_ID = 'NNO2TDZ2XO2YHCMISLHPTUFBAK0YDZBX3RTF04YY4Q5FVR1W' # your Foursquare ID\n",
    "CLIENT_SECRET = 'UTNENPNX0IFTQP1VPKXI035AFXQEC5XJCN0XJ5YRMYB05HAH' # your Foursquare Secret\n",
    "VERSION = '20180605' # Foursquare API version"
   ]
  },
  {
   "cell_type": "code",
   "execution_count": 3,
   "metadata": {},
   "outputs": [],
   "source": [
    "def getNearbyVenues(names, latitudes, longitudes, radius=2500, LIMIT=20000):\n",
    "    \n",
    "    venues_list=[]\n",
    "    for name, lat, lng in zip(names, latitudes, longitudes):\n",
    "        print(name)\n",
    "            \n",
    "        # create the API request URL\n",
    "        url = 'https://api.foursquare.com/v2/venues/explore?&client_id={}&client_secret={}&v={}&ll={},{}&radius={}&limit={}'.format(\n",
    "            CLIENT_ID, \n",
    "            CLIENT_SECRET, \n",
    "            VERSION, \n",
    "            lat, \n",
    "            lng, \n",
    "            radius, \n",
    "            LIMIT)\n",
    "            \n",
    "        # make the GET request\n",
    "        results = requests.get(url).json()[\"response\"]['groups'][0]['items']\n",
    "        \n",
    "        # return only relevant information for each nearby venue\n",
    "        venues_list.append([(\n",
    "            name, \n",
    "            lat, \n",
    "            lng, \n",
    "            v['venue']['name'], \n",
    "            v['venue']['location']['lat'], \n",
    "            v['venue']['location']['lng'],  \n",
    "            v['venue']['categories'][0]['name']) for v in results])\n",
    "\n",
    "    nearby_venues = pd.DataFrame([item for venue_list in venues_list for item in venue_list])\n",
    "    nearby_venues.columns = ['Neighborhood', \n",
    "                  'Neighborhood Latitude', \n",
    "                  'Neighborhood Longitude', \n",
    "                  'Venue', \n",
    "                  'Venue Latitude', \n",
    "                  'Venue Longitude', \n",
    "                  'Venue Category']\n",
    "    \n",
    "    return(nearby_venues)"
   ]
  },
  {
   "cell_type": "code",
   "execution_count": 27,
   "metadata": {},
   "outputs": [],
   "source": [
    "def clusterCorrelations(corr_matrix, cluster_number, sortby_corr_strength=False):\n",
    "    kmeans = KMeans(n_clusters=cluster_number, random_state=0).fit(corr_matrix)\n",
    "    corr_matrix['cluster_labels']=kmeans.labels_\n",
    "        \n",
    "    cluster_labels_df=corr_matrix['cluster_labels'].value_counts().to_frame()\n",
    "    cluster_labels_df=cluster_labels_df.rename(columns={'cluster_labels': 'cluster_size'})\n",
    "    \n",
    "    for i in range(0, cluster_number):\n",
    "        cluster_types=corr_matrix[corr_matrix.cluster_labels==i].index.values.tolist()\n",
    "        cluster_labels_df.loc[i, 'corr_strength']= np.abs(corr_matrix.loc[cluster_types, cluster_types].mean().mean())\n",
    "        \n",
    "    cluster_labels_df['new label']=1\n",
    "    if sortby_corr_strength:\n",
    "        cluster_labels_df['new label']=cluster_labels_df.sort_values('corr_strength', ascending=False)['new label'].cumsum()\n",
    "        cluster_size_list=cluster_labels_df.sort_values('corr_strength', ascending=False).cluster_size.values.tolist()\n",
    "        display(cluster_labels_df[['new label', 'corr_strength', 'cluster_size']].sort_values('corr_strength', ascending=False))\n",
    "\n",
    "    else:\n",
    "        cluster_labels_df['new label']=cluster_labels_df['new label'].cumsum()\n",
    "        luster_size_list=cluster_labels_df.cluster_size.values.tolist()\n",
    "        display(cluster_labels_df[['new label', 'corr_strength', 'cluster_size']])\n",
    "    \n",
    "    corr_matrix['cluster_labels']=corr_matrix['cluster_labels'].apply(lambda x: cluster_labels_df.loc[x]['new label'])    \n",
    "    clustered_venues=corr_matrix.sort_values('cluster_labels').index.values.tolist()\n",
    "    corr_matrix=corr_matrix.loc[clustered_venues, clustered_venues+ ['cluster_labels']]    \n",
    "        \n",
    "    for i in range(cluster_number):\n",
    "        print('\\n Cluster {}:'.format(i+1), corr_matrix[corr_matrix.cluster_labels==i+1].index.values.tolist())\n",
    "        \n",
    "    fig, (ax1, ax2)=plt.subplots(1,2)\n",
    "    ax1.imshow(corr_matrix.drop('cluster_labels', axis=1),cmap='Greys',interpolation='nearest')\n",
    "    ax2.imshow(corr_matrix.drop('cluster_labels', axis=1),cmap='Greys',interpolation='nearest')    \n",
    "    \n",
    "    cluster_line=0\n",
    "    for cluster_size in cluster_size_list:\n",
    "        cluster_line+=cluster_size\n",
    "        ax2.axhline(cluster_line-0.5)\n",
    "        ax2.axvline(cluster_line-0.5)\n",
    "    \n",
    "    plt.show()"
   ]
  },
  {
   "cell_type": "markdown",
   "metadata": {},
   "source": [
    "### Scrape the Table on the given Wikipedia Page with Beautiful Soup and Display the head of the DataFrame"
   ]
  },
  {
   "cell_type": "code",
   "execution_count": 5,
   "metadata": {},
   "outputs": [],
   "source": [
    "url='https://en.wikipedia.org/wiki/List_of_postal_codes_of_Canada:_M'\n",
    "headers = {'User-Agent': 'Mozilla/5.0'}\n",
    "page = requests.get(url, headers=headers)"
   ]
  },
  {
   "cell_type": "code",
   "execution_count": 6,
   "metadata": {},
   "outputs": [],
   "source": [
    "soup = BeautifulSoup(page.text, \"html.parser\")\n",
    "table = soup.find('table')\n",
    "table_rows = table.find_all('tr')\n",
    "\n",
    "l = []\n",
    "for tr in table_rows:\n",
    "    td = tr.find_all('td')\n",
    "    row = [tr.text for tr in td]\n",
    "    l.append(row)\n",
    "df=pd.DataFrame(l, columns=[\"Postcode\", \"Borough\", \"Neighbourhood\"])\n",
    "df=df[df['Borough']!='Not assigned'].dropna()\n",
    "df['Neighbourhood']=df['Neighbourhood'].str.replace('\\n','')"
   ]
  },
  {
   "cell_type": "code",
   "execution_count": 7,
   "metadata": {},
   "outputs": [],
   "source": [
    "# Group together rows with the same postalcode as required\n",
    "df=df.groupby(['Postcode', 'Borough']).agg(lambda col: ', '.join(col)).reset_index()\n",
    "\n",
    "# Fill 'Not- assigned'-values in Neighbourhood-Column with Borough-Name and display the changed rows\n",
    "na_idx=df[df.Neighbourhood.str.contains('Not assigned')].index\n",
    "df.loc[na_idx,'Neighbourhood']=df.loc[na_idx,'Borough']\n",
    "\n",
    "### Filter on Toronto Boroughs only\n",
    "toronto_df=df[df.Borough.str.contains('Toronto')]\n",
    "\n",
    "# Load coordinates and merge\n",
    "coordinates=pd.read_csv('Geospatial_Coordinates.csv')\n",
    "toronto_df=pd.merge(toronto_df, coordinates, left_on='Postcode', right_on='Postal Code').drop('Postal Code', axis=1)"
   ]
  },
  {
   "cell_type": "markdown",
   "metadata": {},
   "source": [
    "### Get Venues Nearby"
   ]
  },
  {
   "cell_type": "code",
   "execution_count": 8,
   "metadata": {},
   "outputs": [
    {
     "name": "stdout",
     "output_type": "stream",
     "text": [
      "The Beaches\n",
      "The Danforth West, Riverdale\n",
      "The Beaches West, India Bazaar\n",
      "Studio District\n",
      "Lawrence Park\n",
      "Davisville North\n",
      "North Toronto West\n",
      "Davisville\n",
      "Moore Park, Summerhill East\n",
      "Deer Park, Forest Hill SE, Rathnelly, South Hill, Summerhill West\n",
      "Rosedale\n",
      "Cabbagetown, St. James Town\n",
      "Church and Wellesley\n",
      "Harbourfront, Regent Park\n",
      "Ryerson, Garden District\n",
      "St. James Town\n",
      "Berczy Park\n",
      "Central Bay Street\n",
      "Adelaide, King, Richmond\n",
      "Harbourfront East, Toronto Islands, Union Station\n",
      "Design Exchange, Toronto Dominion Centre\n",
      "Commerce Court, Victoria Hotel\n",
      "Roselawn\n",
      "Forest Hill North, Forest Hill West\n",
      "The Annex, North Midtown, Yorkville\n",
      "Harbord, University of Toronto\n",
      "Chinatown, Grange Park, Kensington Market\n",
      "CN Tower, Bathurst Quay, Island airport, Harbourfront West, King and Spadina, Railway Lands, South Niagara\n",
      "Stn A PO Boxes 25 The Esplanade\n",
      "First Canadian Place, Underground city\n",
      "Christie\n",
      "Dovercourt Village, Dufferin\n",
      "Little Portugal, Trinity\n",
      "Brockton, Exhibition Place, Parkdale Village\n",
      "High Park, The Junction South\n",
      "Parkdale, Roncesvalles\n",
      "Runnymede, Swansea\n",
      "Business Reply Mail Processing Centre 969 Eastern\n"
     ]
    }
   ],
   "source": [
    "toronto_venues = getNearbyVenues(names=toronto_df['Neighbourhood'],\n",
    "                                   latitudes=toronto_df['Latitude'],\n",
    "                                   longitudes=toronto_df['Longitude']\n",
    "                                  )"
   ]
  },
  {
   "cell_type": "markdown",
   "metadata": {},
   "source": [
    "### One hot-encoding for the venues"
   ]
  },
  {
   "cell_type": "code",
   "execution_count": 11,
   "metadata": {},
   "outputs": [],
   "source": [
    "# one hot encoding\n",
    "toronto_onehot = pd.get_dummies(toronto_venues[['Venue Category']], prefix=\"\", prefix_sep=\"\")\n",
    "\n",
    "# add neighborhood column back to dataframe\n",
    "toronto_onehot['Neighborhood'] = toronto_venues['Neighborhood'] \n",
    "\n",
    "# move neighborhood column to the first column\n",
    "fixed_columns = [toronto_onehot.columns[-1]] + list(toronto_onehot.columns[:-1])\n",
    "toronto_onehot = toronto_onehot[fixed_columns]\n",
    "\n",
    "#toronto_onehot.head()"
   ]
  },
  {
   "cell_type": "markdown",
   "metadata": {},
   "source": [
    "# Cluster Venues bases on Corrleation of their occurences"
   ]
  },
  {
   "cell_type": "markdown",
   "metadata": {},
   "source": [
    "## Filter on Top Venues only in order to avoid getting high correlations due to single/low-number data points"
   ]
  },
  {
   "cell_type": "code",
   "execution_count": 12,
   "metadata": {},
   "outputs": [],
   "source": [
    "pd.options.display.max_rows=20\n",
    "pd.options.display.max_columns=1000"
   ]
  },
  {
   "cell_type": "code",
   "execution_count": 13,
   "metadata": {},
   "outputs": [],
   "source": [
    "venue_count=toronto_onehot.drop('Neighborhood', axis=1).T.sum(axis=1).to_frame()\n",
    "venue_count=venue_count.rename(columns={0:'count'})\n",
    "venue_count=venue_count.sort_values('count', ascending=False)\n",
    "top_venue_types=venue_count.iloc[0:int(venue_count.shape[0]/4)].index.values.tolist()"
   ]
  },
  {
   "cell_type": "code",
   "execution_count": 14,
   "metadata": {},
   "outputs": [],
   "source": [
    "toronto_onehot=toronto_onehot[['Neighborhood']+top_venue_types]"
   ]
  },
  {
   "cell_type": "markdown",
   "metadata": {},
   "source": [
    "# Get Correlation for different vanues based on the data of different neighborhoods"
   ]
  },
  {
   "cell_type": "code",
   "execution_count": 19,
   "metadata": {},
   "outputs": [],
   "source": [
    "venue_corr=toronto_onehot.groupby(['Neighborhood']).sum().corr()"
   ]
  },
  {
   "cell_type": "code",
   "execution_count": 20,
   "metadata": {},
   "outputs": [
    {
     "data": {
      "text/plain": [
       "<matplotlib.image.AxesImage at 0x7f6aa32fa5f8>"
      ]
     },
     "execution_count": 20,
     "metadata": {},
     "output_type": "execute_result"
    },
    {
     "data": {
      "image/png": "[encoded data removed]",
      "text/plain": [
       "<Figure size 432x288 with 1 Axes>"
      ]
     },
     "metadata": {
      "needs_background": "light"
     },
     "output_type": "display_data"
    }
   ],
   "source": [
    "plt.imshow(venue_corr,cmap='Greys',interpolation='nearest')"
   ]
  },
  {
   "cell_type": "code",
   "execution_count": 22,
   "metadata": {},
   "outputs": [],
   "source": [
    "scores=list()\n",
    "\n",
    "# set number of clusters\n",
    "#kclusters = 2\n",
    "\n",
    "for kclusters in range(1,venue_corr.shape[0]):\n",
    "    # run k-means clustering\n",
    "    kmeans = KMeans(n_clusters=kclusters, random_state=0).fit(venue_corr)\n",
    "\n",
    "    # check cluster labelcs generated for each row in the dataframe\n",
    "    #kmeans.labels_[0:10] \n",
    "    scores.append(kmeans.score(venue_corr))"
   ]
  },
  {
   "cell_type": "code",
   "execution_count": 23,
   "metadata": {},
   "outputs": [
    {
     "data": {
      "text/plain": [
       "<matplotlib.collections.PathCollection at 0x7f6aa2e72518>"
      ]
     },
     "execution_count": 23,
     "metadata": {},
     "output_type": "execute_result"
    },
    {
     "data": {
      "image/png": "[encoded data removed]",
      "text/plain": [
       "<Figure size 432x288 with 1 Axes>"
      ]
     },
     "metadata": {
      "needs_background": "light"
     },
     "output_type": "display_data"
    }
   ],
   "source": [
    "plt.axvline(6, color='k', alpha=0.5)\n",
    "plt.axvline(8, color='k', alpha=0.5)\n",
    "plt.scatter(np.linspace(0,len(scores)-1,len(scores)), scores)"
   ]
  },
  {
   "cell_type": "code",
   "execution_count": 28,
   "metadata": {
    "scrolled": false
   },
   "outputs": [
    {
     "data": {
      "text/html": [
       "<div>\n",
       "<style scoped>\n",
       "    .dataframe tbody tr th:only-of-type {\n",
       "        vertical-align: middle;\n",
       "    }\n",
       "\n",
       "    .dataframe tbody tr th {\n",
       "        vertical-align: top;\n",
       "    }\n",
       "\n",
       "    .dataframe thead th {\n",
       "        text-align: right;\n",
       "    }\n",
       "</style>\n",
       "<table border=\"1\" class=\"dataframe\">\n",
       "  <thead>\n",
       "    <tr style=\"text-align: right;\">\n",
       "      <th></th>\n",
       "      <th>new label</th>\n",
       "      <th>corr_strength</th>\n",
       "      <th>cluster_size</th>\n",
       "    </tr>\n",
       "  </thead>\n",
       "  <tbody>\n",
       "    <tr>\n",
       "      <th>0</th>\n",
       "      <td>1</td>\n",
       "      <td>0.395636</td>\n",
       "      <td>16</td>\n",
       "    </tr>\n",
       "    <tr>\n",
       "      <th>2</th>\n",
       "      <td>2</td>\n",
       "      <td>0.360580</td>\n",
       "      <td>7</td>\n",
       "    </tr>\n",
       "    <tr>\n",
       "      <th>1</th>\n",
       "      <td>3</td>\n",
       "      <td>0.247698</td>\n",
       "      <td>14</td>\n",
       "    </tr>\n",
       "    <tr>\n",
       "      <th>3</th>\n",
       "      <td>4</td>\n",
       "      <td>0.199617</td>\n",
       "      <td>16</td>\n",
       "    </tr>\n",
       "  </tbody>\n",
       "</table>\n",
       "</div>"
      ],
      "text/plain": [
       "   new label  corr_strength  cluster_size\n",
       "0          1       0.395636            16\n",
       "2          2       0.360580             7\n",
       "1          3       0.247698            14\n",
       "3          4       0.199617            16"
      ]
     },
     "metadata": {},
     "output_type": "display_data"
    },
    {
     "name": "stdout",
     "output_type": "stream",
     "text": [
      "\n",
      " Cluster 1: ['French Restaurant', 'Farmers Market', 'Beer Bar', 'Plaza', 'American Restaurant', 'Theater', 'Concert Hall', 'Thai Restaurant', 'Steakhouse', 'Japanese Restaurant', 'Hotel', 'Seafood Restaurant', 'Art Gallery', 'Mediterranean Restaurant', 'Comic Shop', 'Museum']\n",
      "\n",
      " Cluster 2: ['Vegetarian / Vegan Restaurant', 'Arts & Crafts Store', 'Gym', 'Dessert Shop', 'Sporting Goods Shop', 'Bookstore', 'Movie Theater']\n",
      "\n",
      " Cluster 3: ['Breakfast Spot', 'Pub', 'BBQ Joint', 'Liquor Store', 'Grocery Store', 'Spa', 'Coffee Shop', 'Gastropub', 'Park', 'Indian Restaurant', 'Diner', 'Middle Eastern Restaurant', 'Italian Restaurant', 'Ice Cream Shop']\n",
      "\n",
      " Cluster 4: ['Café', 'Bakery', 'Pizza Place', 'Restaurant', 'Bar', 'Cocktail Bar', 'Yoga Studio', 'Sandwich Place', 'Vietnamese Restaurant', 'Sushi Restaurant', 'Tea Room', 'Brewery', 'Burger Joint', 'Mexican Restaurant', 'Asian Restaurant', 'Trail']\n"
     ]
    },
    {
     "data": {
      "image/png": "[encoded data removed]",
      "text/plain": [
       "<Figure size 432x288 with 2 Axes>"
      ]
     },
     "metadata": {
      "needs_background": "light"
     },
     "output_type": "display_data"
    },
    {
     "data": {
      "text/html": [
       "<div>\n",
       "<style scoped>\n",
       "    .dataframe tbody tr th:only-of-type {\n",
       "        vertical-align: middle;\n",
       "    }\n",
       "\n",
       "    .dataframe tbody tr th {\n",
       "        vertical-align: top;\n",
       "    }\n",
       "\n",
       "    .dataframe thead th {\n",
       "        text-align: right;\n",
       "    }\n",
       "</style>\n",
       "<table border=\"1\" class=\"dataframe\">\n",
       "  <thead>\n",
       "    <tr style=\"text-align: right;\">\n",
       "      <th></th>\n",
       "      <th>new label</th>\n",
       "      <th>corr_strength</th>\n",
       "      <th>cluster_size</th>\n",
       "    </tr>\n",
       "  </thead>\n",
       "  <tbody>\n",
       "    <tr>\n",
       "      <th>4</th>\n",
       "      <td>1</td>\n",
       "      <td>0.496188</td>\n",
       "      <td>14</td>\n",
       "    </tr>\n",
       "    <tr>\n",
       "      <th>2</th>\n",
       "      <td>2</td>\n",
       "      <td>0.383650</td>\n",
       "      <td>9</td>\n",
       "    </tr>\n",
       "    <tr>\n",
       "      <th>0</th>\n",
       "      <td>3</td>\n",
       "      <td>0.335018</td>\n",
       "      <td>7</td>\n",
       "    </tr>\n",
       "    <tr>\n",
       "      <th>3</th>\n",
       "      <td>4</td>\n",
       "      <td>0.330021</td>\n",
       "      <td>14</td>\n",
       "    </tr>\n",
       "    <tr>\n",
       "      <th>1</th>\n",
       "      <td>5</td>\n",
       "      <td>0.199648</td>\n",
       "      <td>9</td>\n",
       "    </tr>\n",
       "  </tbody>\n",
       "</table>\n",
       "</div>"
      ],
      "text/plain": [
       "   new label  corr_strength  cluster_size\n",
       "4          1       0.496188            14\n",
       "2          2       0.383650             9\n",
       "0          3       0.335018             7\n",
       "3          4       0.330021            14\n",
       "1          5       0.199648             9"
      ]
     },
     "metadata": {},
     "output_type": "display_data"
    },
    {
     "name": "stdout",
     "output_type": "stream",
     "text": [
      "\n",
      " Cluster 1: ['Thai Restaurant', 'Concert Hall', 'Theater', 'Steakhouse', 'Seafood Restaurant', 'Farmers Market', 'Plaza', 'Art Gallery', 'Hotel', 'Mediterranean Restaurant', 'Comic Shop', 'Museum', 'Japanese Restaurant', 'Beer Bar']\n",
      "\n",
      " Cluster 2: ['Restaurant', 'Bar', 'Pizza Place', 'Cocktail Bar', 'Asian Restaurant', 'Sandwich Place', 'Brewery', 'Vietnamese Restaurant', 'Café']\n",
      "\n",
      " Cluster 3: ['Coffee Shop', 'Middle Eastern Restaurant', 'Liquor Store', 'Breakfast Spot', 'Gastropub', 'Diner', 'Pub']\n",
      "\n",
      " Cluster 4: ['Tea Room', 'Spa', 'BBQ Joint', 'Grocery Store', 'Trail', 'Ice Cream Shop', 'Yoga Studio', 'Burger Joint', 'Indian Restaurant', 'Park', 'Italian Restaurant', 'Bakery', 'Mexican Restaurant', 'Sushi Restaurant']\n",
      "\n",
      " Cluster 5: ['Movie Theater', 'Sporting Goods Shop', 'Dessert Shop', 'Bookstore', 'Arts & Crafts Store', 'Vegetarian / Vegan Restaurant', 'American Restaurant', 'Gym', 'French Restaurant']\n"
     ]
    },
    {
     "data": {
      "image/png": "[encoded data removed]",
      "text/plain": [
       "<Figure size 432x288 with 2 Axes>"
      ]
     },
     "metadata": {
      "needs_background": "light"
     },
     "output_type": "display_data"
    },
    {
     "data": {
      "text/html": [
       "<div>\n",
       "<style scoped>\n",
       "    .dataframe tbody tr th:only-of-type {\n",
       "        vertical-align: middle;\n",
       "    }\n",
       "\n",
       "    .dataframe tbody tr th {\n",
       "        vertical-align: top;\n",
       "    }\n",
       "\n",
       "    .dataframe thead th {\n",
       "        text-align: right;\n",
       "    }\n",
       "</style>\n",
       "<table border=\"1\" class=\"dataframe\">\n",
       "  <thead>\n",
       "    <tr style=\"text-align: right;\">\n",
       "      <th></th>\n",
       "      <th>new label</th>\n",
       "      <th>corr_strength</th>\n",
       "      <th>cluster_size</th>\n",
       "    </tr>\n",
       "  </thead>\n",
       "  <tbody>\n",
       "    <tr>\n",
       "      <th>5</th>\n",
       "      <td>1</td>\n",
       "      <td>0.500112</td>\n",
       "      <td>7</td>\n",
       "    </tr>\n",
       "    <tr>\n",
       "      <th>1</th>\n",
       "      <td>2</td>\n",
       "      <td>0.496188</td>\n",
       "      <td>14</td>\n",
       "    </tr>\n",
       "    <tr>\n",
       "      <th>0</th>\n",
       "      <td>3</td>\n",
       "      <td>0.449038</td>\n",
       "      <td>8</td>\n",
       "    </tr>\n",
       "    <tr>\n",
       "      <th>4</th>\n",
       "      <td>4</td>\n",
       "      <td>0.383650</td>\n",
       "      <td>9</td>\n",
       "    </tr>\n",
       "    <tr>\n",
       "      <th>3</th>\n",
       "      <td>5</td>\n",
       "      <td>0.335018</td>\n",
       "      <td>7</td>\n",
       "    </tr>\n",
       "    <tr>\n",
       "      <th>2</th>\n",
       "      <td>6</td>\n",
       "      <td>0.269819</td>\n",
       "      <td>8</td>\n",
       "    </tr>\n",
       "  </tbody>\n",
       "</table>\n",
       "</div>"
      ],
      "text/plain": [
       "   new label  corr_strength  cluster_size\n",
       "5          1       0.500112             7\n",
       "1          2       0.496188            14\n",
       "0          3       0.449038             8\n",
       "4          4       0.383650             9\n",
       "3          5       0.335018             7\n",
       "2          6       0.269819             8"
      ]
     },
     "metadata": {},
     "output_type": "display_data"
    },
    {
     "name": "stdout",
     "output_type": "stream",
     "text": [
      "\n",
      " Cluster 1: ['Trail', 'Burger Joint', 'Yoga Studio', 'Bakery', 'Mexican Restaurant', 'Tea Room', 'Sushi Restaurant']\n",
      "\n",
      " Cluster 2: ['Theater', 'Steakhouse', 'Thai Restaurant', 'Plaza', 'Concert Hall', 'Farmers Market', 'Seafood Restaurant', 'Japanese Restaurant', 'Hotel', 'Art Gallery', 'Mediterranean Restaurant', 'Comic Shop', 'Museum', 'Beer Bar']\n",
      "\n",
      " Cluster 3: ['BBQ Joint', 'Grocery Store', 'Indian Restaurant', 'Spa', 'French Restaurant', 'Park', 'Italian Restaurant', 'Ice Cream Shop']\n",
      "\n",
      " Cluster 4: ['Café', 'Sandwich Place', 'Brewery', 'Pizza Place', 'Restaurant', 'Bar', 'Cocktail Bar', 'Asian Restaurant', 'Vietnamese Restaurant']\n",
      "\n",
      " Cluster 5: ['Middle Eastern Restaurant', 'Liquor Store', 'Gastropub', 'Pub', 'Breakfast Spot', 'Diner', 'Coffee Shop']\n",
      "\n",
      " Cluster 6: ['Arts & Crafts Store', 'Gym', 'Dessert Shop', 'Bookstore', 'Sporting Goods Shop', 'Vegetarian / Vegan Restaurant', 'Movie Theater', 'American Restaurant']\n"
     ]
    },
    {
     "data": {
      "image/png": "[encoded data removed]",
      "text/plain": [
       "<Figure size 432x288 with 2 Axes>"
      ]
     },
     "metadata": {
      "needs_background": "light"
     },
     "output_type": "display_data"
    },
    {
     "data": {
      "text/html": [
       "<div>\n",
       "<style scoped>\n",
       "    .dataframe tbody tr th:only-of-type {\n",
       "        vertical-align: middle;\n",
       "    }\n",
       "\n",
       "    .dataframe tbody tr th {\n",
       "        vertical-align: top;\n",
       "    }\n",
       "\n",
       "    .dataframe thead th {\n",
       "        text-align: right;\n",
       "    }\n",
       "</style>\n",
       "<table border=\"1\" class=\"dataframe\">\n",
       "  <thead>\n",
       "    <tr style=\"text-align: right;\">\n",
       "      <th></th>\n",
       "      <th>new label</th>\n",
       "      <th>corr_strength</th>\n",
       "      <th>cluster_size</th>\n",
       "    </tr>\n",
       "  </thead>\n",
       "  <tbody>\n",
       "    <tr>\n",
       "      <th>3</th>\n",
       "      <td>1</td>\n",
       "      <td>0.546972</td>\n",
       "      <td>3</td>\n",
       "    </tr>\n",
       "    <tr>\n",
       "      <th>5</th>\n",
       "      <td>2</td>\n",
       "      <td>0.501672</td>\n",
       "      <td>6</td>\n",
       "    </tr>\n",
       "    <tr>\n",
       "      <th>0</th>\n",
       "      <td>3</td>\n",
       "      <td>0.500112</td>\n",
       "      <td>7</td>\n",
       "    </tr>\n",
       "    <tr>\n",
       "      <th>2</th>\n",
       "      <td>4</td>\n",
       "      <td>0.496188</td>\n",
       "      <td>14</td>\n",
       "    </tr>\n",
       "    <tr>\n",
       "      <th>6</th>\n",
       "      <td>5</td>\n",
       "      <td>0.449038</td>\n",
       "      <td>8</td>\n",
       "    </tr>\n",
       "    <tr>\n",
       "      <th>4</th>\n",
       "      <td>6</td>\n",
       "      <td>0.360580</td>\n",
       "      <td>7</td>\n",
       "    </tr>\n",
       "    <tr>\n",
       "      <th>1</th>\n",
       "      <td>7</td>\n",
       "      <td>0.243764</td>\n",
       "      <td>8</td>\n",
       "    </tr>\n",
       "  </tbody>\n",
       "</table>\n",
       "</div>"
      ],
      "text/plain": [
       "   new label  corr_strength  cluster_size\n",
       "3          1       0.546972             3\n",
       "5          2       0.501672             6\n",
       "0          3       0.500112             7\n",
       "2          4       0.496188            14\n",
       "6          5       0.449038             8\n",
       "4          6       0.360580             7\n",
       "1          7       0.243764             8"
      ]
     },
     "metadata": {},
     "output_type": "display_data"
    },
    {
     "name": "stdout",
     "output_type": "stream",
     "text": [
      "\n",
      " Cluster 1: ['Sandwich Place', 'Pizza Place', 'Restaurant']\n",
      "\n",
      " Cluster 2: ['Bar', 'Brewery', 'Cocktail Bar', 'Asian Restaurant', 'Vietnamese Restaurant', 'Café']\n",
      "\n",
      " Cluster 3: ['Yoga Studio', 'Bakery', 'Sushi Restaurant', 'Tea Room', 'Mexican Restaurant', 'Burger Joint', 'Trail']\n",
      "\n",
      " Cluster 4: ['Concert Hall', 'Farmers Market', 'Beer Bar', 'Steakhouse', 'Thai Restaurant', 'Seafood Restaurant', 'Art Gallery', 'Mediterranean Restaurant', 'Japanese Restaurant', 'Hotel', 'Comic Shop', 'Museum', 'Theater', 'Plaza']\n",
      "\n",
      " Cluster 5: ['BBQ Joint', 'Spa', 'Grocery Store', 'French Restaurant', 'Indian Restaurant', 'Park', 'Italian Restaurant', 'Ice Cream Shop']\n",
      "\n",
      " Cluster 6: ['Bookstore', 'Sporting Goods Shop', 'Movie Theater', 'Arts & Crafts Store', 'Vegetarian / Vegan Restaurant', 'Gym', 'Dessert Shop']\n",
      "\n",
      " Cluster 7: ['Gastropub', 'Breakfast Spot', 'American Restaurant', 'Liquor Store', 'Middle Eastern Restaurant', 'Diner', 'Pub', 'Coffee Shop']\n"
     ]
    },
    {
     "data": {
      "image/png": "[encoded data removed]",
      "text/plain": [
       "<Figure size 432x288 with 2 Axes>"
      ]
     },
     "metadata": {
      "needs_background": "light"
     },
     "output_type": "display_data"
    },
    {
     "data": {
      "text/html": [
       "<div>\n",
       "<style scoped>\n",
       "    .dataframe tbody tr th:only-of-type {\n",
       "        vertical-align: middle;\n",
       "    }\n",
       "\n",
       "    .dataframe tbody tr th {\n",
       "        vertical-align: top;\n",
       "    }\n",
       "\n",
       "    .dataframe thead th {\n",
       "        text-align: right;\n",
       "    }\n",
       "</style>\n",
       "<table border=\"1\" class=\"dataframe\">\n",
       "  <thead>\n",
       "    <tr style=\"text-align: right;\">\n",
       "      <th></th>\n",
       "      <th>new label</th>\n",
       "      <th>corr_strength</th>\n",
       "      <th>cluster_size</th>\n",
       "    </tr>\n",
       "  </thead>\n",
       "  <tbody>\n",
       "    <tr>\n",
       "      <th>6</th>\n",
       "      <td>1</td>\n",
       "      <td>0.658671</td>\n",
       "      <td>3</td>\n",
       "    </tr>\n",
       "    <tr>\n",
       "      <th>0</th>\n",
       "      <td>2</td>\n",
       "      <td>0.590460</td>\n",
       "      <td>11</td>\n",
       "    </tr>\n",
       "    <tr>\n",
       "      <th>7</th>\n",
       "      <td>3</td>\n",
       "      <td>0.546972</td>\n",
       "      <td>3</td>\n",
       "    </tr>\n",
       "    <tr>\n",
       "      <th>2</th>\n",
       "      <td>4</td>\n",
       "      <td>0.501672</td>\n",
       "      <td>6</td>\n",
       "    </tr>\n",
       "    <tr>\n",
       "      <th>5</th>\n",
       "      <td>5</td>\n",
       "      <td>0.500112</td>\n",
       "      <td>7</td>\n",
       "    </tr>\n",
       "    <tr>\n",
       "      <th>1</th>\n",
       "      <td>6</td>\n",
       "      <td>0.449038</td>\n",
       "      <td>8</td>\n",
       "    </tr>\n",
       "    <tr>\n",
       "      <th>4</th>\n",
       "      <td>7</td>\n",
       "      <td>0.360580</td>\n",
       "      <td>7</td>\n",
       "    </tr>\n",
       "    <tr>\n",
       "      <th>3</th>\n",
       "      <td>8</td>\n",
       "      <td>0.243764</td>\n",
       "      <td>8</td>\n",
       "    </tr>\n",
       "  </tbody>\n",
       "</table>\n",
       "</div>"
      ],
      "text/plain": [
       "   new label  corr_strength  cluster_size\n",
       "6          1       0.658671             3\n",
       "0          2       0.590460            11\n",
       "7          3       0.546972             3\n",
       "2          4       0.501672             6\n",
       "5          5       0.500112             7\n",
       "1          6       0.449038             8\n",
       "4          7       0.360580             7\n",
       "3          8       0.243764             8"
      ]
     },
     "metadata": {},
     "output_type": "display_data"
    },
    {
     "name": "stdout",
     "output_type": "stream",
     "text": [
      "\n",
      " Cluster 1: ['Beer Bar', 'Seafood Restaurant', 'Art Gallery']\n",
      "\n",
      " Cluster 2: ['Thai Restaurant', 'Steakhouse', 'Concert Hall', 'Farmers Market', 'Theater', 'Mediterranean Restaurant', 'Plaza', 'Japanese Restaurant', 'Hotel', 'Museum', 'Comic Shop']\n",
      "\n",
      " Cluster 3: ['Restaurant', 'Sandwich Place', 'Pizza Place']\n",
      "\n",
      " Cluster 4: ['Café', 'Cocktail Bar', 'Brewery', 'Asian Restaurant', 'Vietnamese Restaurant', 'Bar']\n",
      "\n",
      " Cluster 5: ['Yoga Studio', 'Burger Joint', 'Tea Room', 'Mexican Restaurant', 'Sushi Restaurant', 'Bakery', 'Trail']\n",
      "\n",
      " Cluster 6: ['Spa', 'BBQ Joint', 'Grocery Store', 'French Restaurant', 'Indian Restaurant', 'Park', 'Italian Restaurant', 'Ice Cream Shop']\n",
      "\n",
      " Cluster 7: ['Bookstore', 'Sporting Goods Shop', 'Movie Theater', 'Arts & Crafts Store', 'Vegetarian / Vegan Restaurant', 'Gym', 'Dessert Shop']\n",
      "\n",
      " Cluster 8: ['Gastropub', 'Breakfast Spot', 'American Restaurant', 'Liquor Store', 'Middle Eastern Restaurant', 'Diner', 'Pub', 'Coffee Shop']\n"
     ]
    },
    {
     "data": {
      "image/png": "[encoded data removed]",
      "text/plain": [
       "<Figure size 432x288 with 2 Axes>"
      ]
     },
     "metadata": {
      "needs_background": "light"
     },
     "output_type": "display_data"
    }
   ],
   "source": [
    "for i in range(4,9):\n",
    "    clusterCorrelations(venue_corr, i, True)"
   ]
  },
  {
   "cell_type": "code",
   "execution_count": null,
   "metadata": {},
   "outputs": [],
   "source": []
  },
  {
   "cell_type": "code",
   "execution_count": 837,
   "metadata": {},
   "outputs": [
    {
     "data": {
      "text/plain": [
       "Index(['American Restaurant', 'French Restaurant', 'Seafood Restaurant',\n",
       "       'Middle Eastern Restaurant', 'Mediterranean Restaurant',\n",
       "       'Vegetarian / Vegan Restaurant', 'Restaurant', 'Thai Restaurant',\n",
       "       'Vietnamese Restaurant', 'Indian Restaurant', 'Asian Restaurant',\n",
       "       'Italian Restaurant', 'Japanese Restaurant', 'Sushi Restaurant',\n",
       "       'Mexican Restaurant', 'cluster_labels'],\n",
       "      dtype='object')"
      ]
     },
     "execution_count": 837,
     "metadata": {},
     "output_type": "execute_result"
    }
   ],
   "source": [
    "restaurant_corr.columns"
   ]
  },
  {
   "cell_type": "code",
   "execution_count": 838,
   "metadata": {},
   "outputs": [],
   "source": [
    "restaurants_1=restaurant_corr[restaurant_corr['cluster_labels']==1].index.values.tolist()\n",
    "restaurants_2=restaurant_corr[restaurant_corr['cluster_labels']==2].index.values.tolist()"
   ]
  },
  {
   "cell_type": "code",
   "execution_count": 839,
   "metadata": {},
   "outputs": [
    {
     "data": {
      "text/html": [
       "<div>\n",
       "<style scoped>\n",
       "    .dataframe tbody tr th:only-of-type {\n",
       "        vertical-align: middle;\n",
       "    }\n",
       "\n",
       "    .dataframe tbody tr th {\n",
       "        vertical-align: top;\n",
       "    }\n",
       "\n",
       "    .dataframe thead th {\n",
       "        text-align: right;\n",
       "    }\n",
       "</style>\n",
       "<table border=\"1\" class=\"dataframe\">\n",
       "  <thead>\n",
       "    <tr style=\"text-align: right;\">\n",
       "      <th></th>\n",
       "      <th>Middle Eastern Restaurant</th>\n",
       "      <th>Indian Restaurant</th>\n",
       "      <th>Italian Restaurant</th>\n",
       "      <th>Sushi Restaurant</th>\n",
       "      <th>Mexican Restaurant</th>\n",
       "    </tr>\n",
       "  </thead>\n",
       "  <tbody>\n",
       "    <tr>\n",
       "      <th>Middle Eastern Restaurant</th>\n",
       "      <td>1.000000</td>\n",
       "      <td>0.376242</td>\n",
       "      <td>0.361741</td>\n",
       "      <td>0.045866</td>\n",
       "      <td>0.181094</td>\n",
       "    </tr>\n",
       "    <tr>\n",
       "      <th>Indian Restaurant</th>\n",
       "      <td>0.376242</td>\n",
       "      <td>1.000000</td>\n",
       "      <td>0.285230</td>\n",
       "      <td>0.225291</td>\n",
       "      <td>0.086724</td>\n",
       "    </tr>\n",
       "    <tr>\n",
       "      <th>Italian Restaurant</th>\n",
       "      <td>0.361741</td>\n",
       "      <td>0.285230</td>\n",
       "      <td>1.000000</td>\n",
       "      <td>0.477971</td>\n",
       "      <td>0.375210</td>\n",
       "    </tr>\n",
       "    <tr>\n",
       "      <th>Sushi Restaurant</th>\n",
       "      <td>0.045866</td>\n",
       "      <td>0.225291</td>\n",
       "      <td>0.477971</td>\n",
       "      <td>1.000000</td>\n",
       "      <td>0.327214</td>\n",
       "    </tr>\n",
       "    <tr>\n",
       "      <th>Mexican Restaurant</th>\n",
       "      <td>0.181094</td>\n",
       "      <td>0.086724</td>\n",
       "      <td>0.375210</td>\n",
       "      <td>0.327214</td>\n",
       "      <td>1.000000</td>\n",
       "    </tr>\n",
       "  </tbody>\n",
       "</table>\n",
       "</div>"
      ],
      "text/plain": [
       "                           Middle Eastern Restaurant  Indian Restaurant  \\\n",
       "Middle Eastern Restaurant                   1.000000           0.376242   \n",
       "Indian Restaurant                           0.376242           1.000000   \n",
       "Italian Restaurant                          0.361741           0.285230   \n",
       "Sushi Restaurant                            0.045866           0.225291   \n",
       "Mexican Restaurant                          0.181094           0.086724   \n",
       "\n",
       "                           Italian Restaurant  Sushi Restaurant  \\\n",
       "Middle Eastern Restaurant            0.361741          0.045866   \n",
       "Indian Restaurant                    0.285230          0.225291   \n",
       "Italian Restaurant                   1.000000          0.477971   \n",
       "Sushi Restaurant                     0.477971          1.000000   \n",
       "Mexican Restaurant                   0.375210          0.327214   \n",
       "\n",
       "                           Mexican Restaurant  \n",
       "Middle Eastern Restaurant            0.181094  \n",
       "Indian Restaurant                    0.086724  \n",
       "Italian Restaurant                   0.375210  \n",
       "Sushi Restaurant                     0.327214  \n",
       "Mexican Restaurant                   1.000000  "
      ]
     },
     "execution_count": 839,
     "metadata": {},
     "output_type": "execute_result"
    }
   ],
   "source": [
    "restaurant_corr.loc[restaurants_1, restaurants_1]"
   ]
  },
  {
   "cell_type": "code",
   "execution_count": 840,
   "metadata": {},
   "outputs": [],
   "source": [
    "toronto_onehot['restaurants_1']=toronto_onehot[restaurants_1].sum(axis=1)"
   ]
  },
  {
   "cell_type": "code",
   "execution_count": 841,
   "metadata": {},
   "outputs": [],
   "source": [
    "toronto_onehot_restaurants_summed=toronto_onehot.drop(restaurants_1, axis=1)"
   ]
  },
  {
   "cell_type": "code",
   "execution_count": null,
   "metadata": {},
   "outputs": [],
   "source": []
  },
  {
   "cell_type": "code",
   "execution_count": null,
   "metadata": {},
   "outputs": [],
   "source": []
  },
  {
   "cell_type": "code",
   "execution_count": null,
   "metadata": {},
   "outputs": [],
   "source": []
  },
  {
   "cell_type": "code",
   "execution_count": 842,
   "metadata": {},
   "outputs": [],
   "source": [
    "venue_categories=pd.DataFrame({'venue_type':top_venue_types+['restaurants_1']})"
   ]
  },
  {
   "cell_type": "code",
   "execution_count": 843,
   "metadata": {},
   "outputs": [],
   "source": [
    "venue_categories=venue_categories[~venue_categories.venue_type.isin(restaurants_1)].dropna()"
   ]
  },
  {
   "cell_type": "code",
   "execution_count": 844,
   "metadata": {},
   "outputs": [],
   "source": [
    "top_venues=venue_categories.venue_type.tolist()"
   ]
  },
  {
   "cell_type": "code",
   "execution_count": 845,
   "metadata": {},
   "outputs": [],
   "source": [
    "toronto_onehot=toronto_onehot_restaurants_summed[['Neighborhood']+top_venues]"
   ]
  },
  {
   "cell_type": "code",
   "execution_count": 848,
   "metadata": {},
   "outputs": [
    {
     "data": {
      "text/plain": [
       "<matplotlib.image.AxesImage at 0x7fc0742af240>"
      ]
     },
     "execution_count": 848,
     "metadata": {},
     "output_type": "execute_result"
    },
    {
     "data": {
      "image/png": "[encoded data removed]",
      "text/plain": [
       "<Figure size 432x288 with 1 Axes>"
      ]
     },
     "metadata": {
      "needs_background": "light"
     },
     "output_type": "display_data"
    }
   ],
   "source": [
    "plt.imshow(venue_corr.drop('cluster_labels', axis=1),cmap='Greys',interpolation='nearest')\n",
    "#plot_corr(restaurant_corr[restaurant_types])"
   ]
  },
  {
   "cell_type": "code",
   "execution_count": 849,
   "metadata": {},
   "outputs": [],
   "source": [
    "scores=list()\n",
    "\n",
    "# set number of clusters\n",
    "#kclusters = 2\n",
    "\n",
    "for kclusters in range(1,venue_corr.shape[0]):\n",
    "    # run k-means clustering\n",
    "    kmeans = KMeans(n_clusters=kclusters, random_state=0).fit(venue_corr)\n",
    "\n",
    "    # check cluster labels generated for each row in the dataframe\n",
    "    kmeans.labels_[0:10] \n",
    "    scores.append(kmeans.score(venue_corr))"
   ]
  },
  {
   "cell_type": "code",
   "execution_count": 850,
   "metadata": {},
   "outputs": [
    {
     "data": {
      "text/plain": [
       "<matplotlib.collections.PathCollection at 0x7fc077b955f8>"
      ]
     },
     "execution_count": 850,
     "metadata": {},
     "output_type": "execute_result"
    },
    {
     "data": {
      "image/png": "[encoded data removed]",
      "text/plain": [
       "<Figure size 432x288 with 1 Axes>"
      ]
     },
     "metadata": {
      "needs_background": "light"
     },
     "output_type": "display_data"
    }
   ],
   "source": [
    "plt.axvline(4, color='k', alpha=0.5)\n",
    "plt.axvline(8, color='k', alpha=0.5)\n",
    "plt.scatter(np.linspace(0,len(scores)-1,len(scores)), scores)"
   ]
  },
  {
   "cell_type": "code",
   "execution_count": 41,
   "metadata": {
    "scrolled": false
   },
   "outputs": [
    {
     "data": {
      "text/html": [
       "<div>\n",
       "<style scoped>\n",
       "    .dataframe tbody tr th:only-of-type {\n",
       "        vertical-align: middle;\n",
       "    }\n",
       "\n",
       "    .dataframe tbody tr th {\n",
       "        vertical-align: top;\n",
       "    }\n",
       "\n",
       "    .dataframe thead th {\n",
       "        text-align: right;\n",
       "    }\n",
       "</style>\n",
       "<table border=\"1\" class=\"dataframe\">\n",
       "  <thead>\n",
       "    <tr style=\"text-align: right;\">\n",
       "      <th></th>\n",
       "      <th>new label</th>\n",
       "      <th>corr_strength</th>\n",
       "      <th>cluster_size</th>\n",
       "    </tr>\n",
       "  </thead>\n",
       "  <tbody>\n",
       "    <tr>\n",
       "      <th>1</th>\n",
       "      <td>1</td>\n",
       "      <td>0.590460</td>\n",
       "      <td>11</td>\n",
       "    </tr>\n",
       "    <tr>\n",
       "      <th>3</th>\n",
       "      <td>2</td>\n",
       "      <td>0.267046</td>\n",
       "      <td>13</td>\n",
       "    </tr>\n",
       "    <tr>\n",
       "      <th>0</th>\n",
       "      <td>3</td>\n",
       "      <td>0.231499</td>\n",
       "      <td>15</td>\n",
       "    </tr>\n",
       "    <tr>\n",
       "      <th>2</th>\n",
       "      <td>4</td>\n",
       "      <td>0.228912</td>\n",
       "      <td>14</td>\n",
       "    </tr>\n",
       "  </tbody>\n",
       "</table>\n",
       "</div>"
      ],
      "text/plain": [
       "   new label  corr_strength  cluster_size\n",
       "1          1       0.590460            11\n",
       "3          2       0.267046            13\n",
       "0          3       0.231499            15\n",
       "2          4       0.228912            14"
      ]
     },
     "metadata": {},
     "output_type": "display_data"
    },
    {
     "name": "stdout",
     "output_type": "stream",
     "text": [
      "\n",
      " Cluster 1: ['Steakhouse', 'Museum', 'Comic Shop', 'Mediterranean Restaurant', 'Hotel', 'Japanese Restaurant', 'Farmers Market', 'Plaza', 'Concert Hall', 'Theater', 'Thai Restaurant']\n",
      "\n",
      " Cluster 2: ['Yoga Studio', 'Burger Joint', 'Brewery', 'Tea Room', 'Trail', 'Vietnamese Restaurant', 'Asian Restaurant', 'Sushi Restaurant', 'Cocktail Bar', 'Bar', 'Bakery', 'Café', 'Mexican Restaurant']\n",
      "\n",
      " Cluster 3: ['Spa', 'Grocery Store', 'Pub', 'BBQ Joint', 'Breakfast Spot', 'Liquor Store', 'Coffee Shop', 'French Restaurant', 'Indian Restaurant', 'Park', 'Diner', 'Middle Eastern Restaurant', 'Italian Restaurant', 'Ice Cream Shop', 'Gastropub']\n",
      "\n",
      " Cluster 4: ['Movie Theater', 'Pizza Place', 'Art Gallery', 'Seafood Restaurant', 'Restaurant', 'Sandwich Place', 'Sporting Goods Shop', 'Dessert Shop', 'Bookstore', 'Vegetarian / Vegan Restaurant', 'American Restaurant', 'Beer Bar', 'Gym', 'Arts & Crafts Store']\n"
     ]
    },
    {
     "data": {
      "image/png": "[encoded data removed]",
      "text/plain": [
       "<Figure size 432x288 with 2 Axes>"
      ]
     },
     "metadata": {
      "needs_background": "light"
     },
     "output_type": "display_data"
    },
    {
     "data": {
      "text/html": [
       "<div>\n",
       "<style scoped>\n",
       "    .dataframe tbody tr th:only-of-type {\n",
       "        vertical-align: middle;\n",
       "    }\n",
       "\n",
       "    .dataframe tbody tr th {\n",
       "        vertical-align: top;\n",
       "    }\n",
       "\n",
       "    .dataframe thead th {\n",
       "        text-align: right;\n",
       "    }\n",
       "</style>\n",
       "<table border=\"1\" class=\"dataframe\">\n",
       "  <thead>\n",
       "    <tr style=\"text-align: right;\">\n",
       "      <th></th>\n",
       "      <th>new label</th>\n",
       "      <th>corr_strength</th>\n",
       "      <th>cluster_size</th>\n",
       "    </tr>\n",
       "  </thead>\n",
       "  <tbody>\n",
       "    <tr>\n",
       "      <th>2</th>\n",
       "      <td>1</td>\n",
       "      <td>0.590460</td>\n",
       "      <td>11</td>\n",
       "    </tr>\n",
       "    <tr>\n",
       "      <th>0</th>\n",
       "      <td>2</td>\n",
       "      <td>0.441579</td>\n",
       "      <td>5</td>\n",
       "    </tr>\n",
       "    <tr>\n",
       "      <th>3</th>\n",
       "      <td>3</td>\n",
       "      <td>0.371863</td>\n",
       "      <td>9</td>\n",
       "    </tr>\n",
       "    <tr>\n",
       "      <th>1</th>\n",
       "      <td>4</td>\n",
       "      <td>0.323111</td>\n",
       "      <td>14</td>\n",
       "    </tr>\n",
       "    <tr>\n",
       "      <th>4</th>\n",
       "      <td>5</td>\n",
       "      <td>0.228912</td>\n",
       "      <td>14</td>\n",
       "    </tr>\n",
       "  </tbody>\n",
       "</table>\n",
       "</div>"
      ],
      "text/plain": [
       "   new label  corr_strength  cluster_size\n",
       "2          1       0.590460            11\n",
       "0          2       0.441579             5\n",
       "3          3       0.371863             9\n",
       "1          4       0.323111            14\n",
       "4          5       0.228912            14"
      ]
     },
     "metadata": {},
     "output_type": "display_data"
    },
    {
     "name": "stdout",
     "output_type": "stream",
     "text": [
      "\n",
      " Cluster 1: ['Steakhouse', 'Museum', 'Comic Shop', 'Mediterranean Restaurant', 'Hotel', 'Japanese Restaurant', 'Farmers Market', 'Plaza', 'Concert Hall', 'Theater', 'Thai Restaurant']\n",
      "\n",
      " Cluster 2: ['Breakfast Spot', 'Pub', 'Diner', 'Coffee Shop', 'Gastropub']\n",
      "\n",
      " Cluster 3: ['Vietnamese Restaurant', 'Brewery', 'Asian Restaurant', 'Cocktail Bar', 'Bar', 'Bakery', 'Café', 'Yoga Studio', 'Mexican Restaurant']\n",
      "\n",
      " Cluster 4: ['Tea Room', 'Spa', 'Grocery Store', 'BBQ Joint', 'Liquor Store', 'French Restaurant', 'Trail', 'Burger Joint', 'Indian Restaurant', 'Park', 'Middle Eastern Restaurant', 'Italian Restaurant', 'Ice Cream Shop', 'Sushi Restaurant']\n",
      "\n",
      " Cluster 5: ['Movie Theater', 'Pizza Place', 'Art Gallery', 'Seafood Restaurant', 'Restaurant', 'Sandwich Place', 'Sporting Goods Shop', 'Dessert Shop', 'Bookstore', 'Vegetarian / Vegan Restaurant', 'American Restaurant', 'Beer Bar', 'Gym', 'Arts & Crafts Store']\n"
     ]
    },
    {
     "data": {
      "image/png": "[encoded data removed]",
      "text/plain": [
       "<Figure size 432x288 with 2 Axes>"
      ]
     },
     "metadata": {
      "needs_background": "light"
     },
     "output_type": "display_data"
    },
    {
     "data": {
      "text/html": [
       "<div>\n",
       "<style scoped>\n",
       "    .dataframe tbody tr th:only-of-type {\n",
       "        vertical-align: middle;\n",
       "    }\n",
       "\n",
       "    .dataframe tbody tr th {\n",
       "        vertical-align: top;\n",
       "    }\n",
       "\n",
       "    .dataframe thead th {\n",
       "        text-align: right;\n",
       "    }\n",
       "</style>\n",
       "<table border=\"1\" class=\"dataframe\">\n",
       "  <thead>\n",
       "    <tr style=\"text-align: right;\">\n",
       "      <th></th>\n",
       "      <th>new label</th>\n",
       "      <th>corr_strength</th>\n",
       "      <th>cluster_size</th>\n",
       "    </tr>\n",
       "  </thead>\n",
       "  <tbody>\n",
       "    <tr>\n",
       "      <th>1</th>\n",
       "      <td>1</td>\n",
       "      <td>0.590460</td>\n",
       "      <td>11</td>\n",
       "    </tr>\n",
       "    <tr>\n",
       "      <th>0</th>\n",
       "      <td>2</td>\n",
       "      <td>0.526598</td>\n",
       "      <td>6</td>\n",
       "    </tr>\n",
       "    <tr>\n",
       "      <th>3</th>\n",
       "      <td>3</td>\n",
       "      <td>0.492884</td>\n",
       "      <td>7</td>\n",
       "    </tr>\n",
       "    <tr>\n",
       "      <th>4</th>\n",
       "      <td>4</td>\n",
       "      <td>0.441579</td>\n",
       "      <td>5</td>\n",
       "    </tr>\n",
       "    <tr>\n",
       "      <th>5</th>\n",
       "      <td>5</td>\n",
       "      <td>0.395824</td>\n",
       "      <td>10</td>\n",
       "    </tr>\n",
       "    <tr>\n",
       "      <th>2</th>\n",
       "      <td>6</td>\n",
       "      <td>0.228912</td>\n",
       "      <td>14</td>\n",
       "    </tr>\n",
       "  </tbody>\n",
       "</table>\n",
       "</div>"
      ],
      "text/plain": [
       "   new label  corr_strength  cluster_size\n",
       "1          1       0.590460            11\n",
       "0          2       0.526598             6\n",
       "3          3       0.492884             7\n",
       "4          4       0.441579             5\n",
       "5          5       0.395824            10\n",
       "2          6       0.228912            14"
      ]
     },
     "metadata": {},
     "output_type": "display_data"
    },
    {
     "name": "stdout",
     "output_type": "stream",
     "text": [
      "\n",
      " Cluster 1: ['Museum', 'Comic Shop', 'Steakhouse', 'Mediterranean Restaurant', 'Hotel', 'Japanese Restaurant', 'Theater', 'Thai Restaurant', 'Plaza', 'Farmers Market', 'Concert Hall']\n",
      "\n",
      " Cluster 2: ['Trail', 'Yoga Studio', 'Mexican Restaurant', 'Burger Joint', 'Sushi Restaurant', 'Tea Room']\n",
      "\n",
      " Cluster 3: ['Asian Restaurant', 'Brewery', 'Bar', 'Cocktail Bar', 'Bakery', 'Café', 'Vietnamese Restaurant']\n",
      "\n",
      " Cluster 4: ['Pub', 'Breakfast Spot', 'Coffee Shop', 'Diner', 'Gastropub']\n",
      "\n",
      " Cluster 5: ['Liquor Store', 'Park', 'Italian Restaurant', 'BBQ Joint', 'Indian Restaurant', 'Spa', 'Ice Cream Shop', 'French Restaurant', 'Middle Eastern Restaurant', 'Grocery Store']\n",
      "\n",
      " Cluster 6: ['Bookstore', 'Dessert Shop', 'Vegetarian / Vegan Restaurant', 'Gym', 'Arts & Crafts Store', 'American Restaurant', 'Restaurant', 'Seafood Restaurant', 'Art Gallery', 'Pizza Place', 'Sporting Goods Shop', 'Movie Theater', 'Sandwich Place', 'Beer Bar']\n"
     ]
    },
    {
     "data": {
      "image/png": "[encoded data removed]",
      "text/plain": [
       "<Figure size 432x288 with 2 Axes>"
      ]
     },
     "metadata": {
      "needs_background": "light"
     },
     "output_type": "display_data"
    },
    {
     "data": {
      "text/html": [
       "<div>\n",
       "<style scoped>\n",
       "    .dataframe tbody tr th:only-of-type {\n",
       "        vertical-align: middle;\n",
       "    }\n",
       "\n",
       "    .dataframe tbody tr th {\n",
       "        vertical-align: top;\n",
       "    }\n",
       "\n",
       "    .dataframe thead th {\n",
       "        text-align: right;\n",
       "    }\n",
       "</style>\n",
       "<table border=\"1\" class=\"dataframe\">\n",
       "  <thead>\n",
       "    <tr style=\"text-align: right;\">\n",
       "      <th></th>\n",
       "      <th>new label</th>\n",
       "      <th>corr_strength</th>\n",
       "      <th>cluster_size</th>\n",
       "    </tr>\n",
       "  </thead>\n",
       "  <tbody>\n",
       "    <tr>\n",
       "      <th>1</th>\n",
       "      <td>1</td>\n",
       "      <td>0.590460</td>\n",
       "      <td>11</td>\n",
       "    </tr>\n",
       "    <tr>\n",
       "      <th>6</th>\n",
       "      <td>2</td>\n",
       "      <td>0.526598</td>\n",
       "      <td>6</td>\n",
       "    </tr>\n",
       "    <tr>\n",
       "      <th>2</th>\n",
       "      <td>3</td>\n",
       "      <td>0.492884</td>\n",
       "      <td>7</td>\n",
       "    </tr>\n",
       "    <tr>\n",
       "      <th>3</th>\n",
       "      <td>4</td>\n",
       "      <td>0.441579</td>\n",
       "      <td>5</td>\n",
       "    </tr>\n",
       "    <tr>\n",
       "      <th>5</th>\n",
       "      <td>5</td>\n",
       "      <td>0.395824</td>\n",
       "      <td>10</td>\n",
       "    </tr>\n",
       "    <tr>\n",
       "      <th>0</th>\n",
       "      <td>6</td>\n",
       "      <td>0.371492</td>\n",
       "      <td>6</td>\n",
       "    </tr>\n",
       "    <tr>\n",
       "      <th>4</th>\n",
       "      <td>7</td>\n",
       "      <td>0.347721</td>\n",
       "      <td>8</td>\n",
       "    </tr>\n",
       "  </tbody>\n",
       "</table>\n",
       "</div>"
      ],
      "text/plain": [
       "   new label  corr_strength  cluster_size\n",
       "1          1       0.590460            11\n",
       "6          2       0.526598             6\n",
       "2          3       0.492884             7\n",
       "3          4       0.441579             5\n",
       "5          5       0.395824            10\n",
       "0          6       0.371492             6\n",
       "4          7       0.347721             8"
      ]
     },
     "metadata": {},
     "output_type": "display_data"
    },
    {
     "name": "stdout",
     "output_type": "stream",
     "text": [
      "\n",
      " Cluster 1: ['Museum', 'Comic Shop', 'Steakhouse', 'Mediterranean Restaurant', 'Hotel', 'Japanese Restaurant', 'Theater', 'Thai Restaurant', 'Plaza', 'Farmers Market', 'Concert Hall']\n",
      "\n",
      " Cluster 2: ['Trail', 'Yoga Studio', 'Mexican Restaurant', 'Burger Joint', 'Sushi Restaurant', 'Tea Room']\n",
      "\n",
      " Cluster 3: ['Asian Restaurant', 'Brewery', 'Bar', 'Cocktail Bar', 'Bakery', 'Café', 'Vietnamese Restaurant']\n",
      "\n",
      " Cluster 4: ['Pub', 'Breakfast Spot', 'Coffee Shop', 'Diner', 'Gastropub']\n",
      "\n",
      " Cluster 5: ['Liquor Store', 'Park', 'Italian Restaurant', 'BBQ Joint', 'Indian Restaurant', 'Spa', 'Ice Cream Shop', 'French Restaurant', 'Middle Eastern Restaurant', 'Grocery Store']\n",
      "\n",
      " Cluster 6: ['Bookstore', 'Dessert Shop', 'Vegetarian / Vegan Restaurant', 'Gym', 'Sporting Goods Shop', 'Movie Theater']\n",
      "\n",
      " Cluster 7: ['Arts & Crafts Store', 'American Restaurant', 'Restaurant', 'Seafood Restaurant', 'Art Gallery', 'Pizza Place', 'Sandwich Place', 'Beer Bar']\n"
     ]
    },
    {
     "data": {
      "image/png": "[encoded data removed]",
      "text/plain": [
       "<Figure size 432x288 with 2 Axes>"
      ]
     },
     "metadata": {
      "needs_background": "light"
     },
     "output_type": "display_data"
    }
   ],
   "source": [
    "for i in range(4,8):\n",
    "        clusterCorrelations(venue_corr, i, True)"
   ]
  },
  {
   "cell_type": "markdown",
   "metadata": {},
   "source": [
    "We find a stable cluster of 11 venues wich are correlated the strongest amongst the set of top venues. "
   ]
  },
  {
   "cell_type": "code",
   "execution_count": 42,
   "metadata": {},
   "outputs": [],
   "source": [
    "top_cluster=['Museum', 'Comic Shop', 'Steakhouse', 'Mediterranean Restaurant', 'Hotel', 'Japanese Restaurant', 'Theater', 'Thai Restaurant', 'Plaza', 'Farmers Market', 'Concert Hall']"
   ]
  },
  {
   "cell_type": "code",
   "execution_count": 61,
   "metadata": {
    "scrolled": true
   },
   "outputs": [],
   "source": [
    "top_cluster_corr=venue_corr.loc[top_cluster, top_cluster]"
   ]
  },
  {
   "cell_type": "markdown",
   "metadata": {},
   "source": [
    "We use the corelation amonst the cluster to make a prediction for the number of venues in each neighborhood bases on the other venues"
   ]
  },
  {
   "cell_type": "code",
   "execution_count": 62,
   "metadata": {},
   "outputs": [],
   "source": [
    "toronto_top_cluster=toronto_onehot[['Neighborhood']+top_cluster].groupby('Neighborhood').sum()"
   ]
  },
  {
   "cell_type": "code",
   "execution_count": 63,
   "metadata": {},
   "outputs": [],
   "source": [
    "top_cluster_predictions=toronto_top_cluster.copy()"
   ]
  },
  {
   "cell_type": "code",
   "execution_count": 104,
   "metadata": {},
   "outputs": [],
   "source": [
    "for i in top_cluster:\n",
    "\n",
    "    get_cluster=top_cluster.copy()\n",
    "    get_cluster.remove(i)\n",
    "    prediction=np.dot(np.array(toronto_top_cluster[get_cluster]),top_cluster_corr.loc[get_cluster, i].values.reshape((10,1)))/10\n",
    "\n",
    "    top_cluster_predictions[[i]]=prediction"
   ]
  },
  {
   "cell_type": "code",
   "execution_count": 110,
   "metadata": {},
   "outputs": [
    {
     "data": {
      "text/html": [
       "<div>\n",
       "<style scoped>\n",
       "    .dataframe tbody tr th:only-of-type {\n",
       "        vertical-align: middle;\n",
       "    }\n",
       "\n",
       "    .dataframe tbody tr th {\n",
       "        vertical-align: top;\n",
       "    }\n",
       "\n",
       "    .dataframe thead th {\n",
       "        text-align: right;\n",
       "    }\n",
       "</style>\n",
       "<table border=\"1\" class=\"dataframe\">\n",
       "  <thead>\n",
       "    <tr style=\"text-align: right;\">\n",
       "      <th></th>\n",
       "      <th>Museum</th>\n",
       "      <th>Comic Shop</th>\n",
       "      <th>Steakhouse</th>\n",
       "      <th>Mediterranean Restaurant</th>\n",
       "      <th>Hotel</th>\n",
       "      <th>Japanese Restaurant</th>\n",
       "      <th>Theater</th>\n",
       "      <th>Thai Restaurant</th>\n",
       "      <th>Plaza</th>\n",
       "      <th>Farmers Market</th>\n",
       "      <th>Concert Hall</th>\n",
       "    </tr>\n",
       "    <tr>\n",
       "      <th>Neighborhood</th>\n",
       "      <th></th>\n",
       "      <th></th>\n",
       "      <th></th>\n",
       "      <th></th>\n",
       "      <th></th>\n",
       "      <th></th>\n",
       "      <th></th>\n",
       "      <th></th>\n",
       "      <th></th>\n",
       "      <th></th>\n",
       "      <th></th>\n",
       "    </tr>\n",
       "  </thead>\n",
       "  <tbody>\n",
       "    <tr>\n",
       "      <th>Adelaide, King, Richmond</th>\n",
       "      <td>0.079635</td>\n",
       "      <td>-0.212054</td>\n",
       "      <td>-0.493005</td>\n",
       "      <td>0.293252</td>\n",
       "      <td>-3.684512</td>\n",
       "      <td>-1.963568</td>\n",
       "      <td>-1.477969</td>\n",
       "      <td>-0.802465</td>\n",
       "      <td>-0.564122</td>\n",
       "      <td>-0.769006</td>\n",
       "      <td>-0.539085</td>\n",
       "    </tr>\n",
       "    <tr>\n",
       "      <th>Berczy Park</th>\n",
       "      <td>0.097341</td>\n",
       "      <td>0.817080</td>\n",
       "      <td>-0.447209</td>\n",
       "      <td>0.300616</td>\n",
       "      <td>-3.613924</td>\n",
       "      <td>-0.915721</td>\n",
       "      <td>-2.492217</td>\n",
       "      <td>-0.754044</td>\n",
       "      <td>-0.505572</td>\n",
       "      <td>-1.754506</td>\n",
       "      <td>-0.495998</td>\n",
       "    </tr>\n",
       "    <tr>\n",
       "      <th>Brockton, Exhibition Place, Parkdale Village</th>\n",
       "      <td>0.322880</td>\n",
       "      <td>0.248881</td>\n",
       "      <td>0.514279</td>\n",
       "      <td>0.395630</td>\n",
       "      <td>-2.747488</td>\n",
       "      <td>-1.746051</td>\n",
       "      <td>-0.553575</td>\n",
       "      <td>-0.662312</td>\n",
       "      <td>0.491565</td>\n",
       "      <td>0.398039</td>\n",
       "      <td>0.462340</td>\n",
       "    </tr>\n",
       "    <tr>\n",
       "      <th>Business Reply Mail Processing Centre 969 Eastern</th>\n",
       "      <td>0.154018</td>\n",
       "      <td>-0.932691</td>\n",
       "      <td>0.150250</td>\n",
       "      <td>0.184440</td>\n",
       "      <td>-0.892671</td>\n",
       "      <td>0.112372</td>\n",
       "      <td>0.193772</td>\n",
       "      <td>0.158928</td>\n",
       "      <td>0.151017</td>\n",
       "      <td>-0.899869</td>\n",
       "      <td>0.176465</td>\n",
       "    </tr>\n",
       "    <tr>\n",
       "      <th>CN Tower, Bathurst Quay, Island airport, Harbourfront West, King and Spadina, Railway Lands, South Niagara</th>\n",
       "      <td>0.522922</td>\n",
       "      <td>0.368440</td>\n",
       "      <td>-0.240899</td>\n",
       "      <td>-0.439422</td>\n",
       "      <td>-3.498917</td>\n",
       "      <td>-1.511528</td>\n",
       "      <td>-0.224064</td>\n",
       "      <td>0.601278</td>\n",
       "      <td>-1.354206</td>\n",
       "      <td>0.615035</td>\n",
       "      <td>0.767927</td>\n",
       "    </tr>\n",
       "    <tr>\n",
       "      <th>Cabbagetown, St. James Town</th>\n",
       "      <td>0.838069</td>\n",
       "      <td>-1.403333</td>\n",
       "      <td>0.170087</td>\n",
       "      <td>-0.026364</td>\n",
       "      <td>-1.949334</td>\n",
       "      <td>-2.234081</td>\n",
       "      <td>-1.918816</td>\n",
       "      <td>-2.133683</td>\n",
       "      <td>0.113107</td>\n",
       "      <td>-0.033207</td>\n",
       "      <td>0.141383</td>\n",
       "    </tr>\n",
       "    <tr>\n",
       "      <th>Central Bay Street</th>\n",
       "      <td>-0.088037</td>\n",
       "      <td>-0.332225</td>\n",
       "      <td>-0.761059</td>\n",
       "      <td>0.083365</td>\n",
       "      <td>-1.817890</td>\n",
       "      <td>-2.145668</td>\n",
       "      <td>-1.805079</td>\n",
       "      <td>0.019003</td>\n",
       "      <td>0.239086</td>\n",
       "      <td>0.036273</td>\n",
       "      <td>-1.872094</td>\n",
       "    </tr>\n",
       "    <tr>\n",
       "      <th>Chinatown, Grange Park, Kensington Market</th>\n",
       "      <td>0.332453</td>\n",
       "      <td>0.263725</td>\n",
       "      <td>-0.584272</td>\n",
       "      <td>-0.665362</td>\n",
       "      <td>-0.575590</td>\n",
       "      <td>-0.684459</td>\n",
       "      <td>-0.567301</td>\n",
       "      <td>-0.674189</td>\n",
       "      <td>0.471294</td>\n",
       "      <td>0.395422</td>\n",
       "      <td>-0.590724</td>\n",
       "    </tr>\n",
       "    <tr>\n",
       "      <th>Christie</th>\n",
       "      <td>-0.906916</td>\n",
       "      <td>0.104605</td>\n",
       "      <td>0.168263</td>\n",
       "      <td>0.156330</td>\n",
       "      <td>0.180249</td>\n",
       "      <td>-0.933951</td>\n",
       "      <td>0.169039</td>\n",
       "      <td>0.132982</td>\n",
       "      <td>0.139851</td>\n",
       "      <td>-0.918333</td>\n",
       "      <td>0.170504</td>\n",
       "    </tr>\n",
       "    <tr>\n",
       "      <th>Church and Wellesley</th>\n",
       "      <td>-0.031699</td>\n",
       "      <td>-1.279243</td>\n",
       "      <td>-0.598604</td>\n",
       "      <td>0.174392</td>\n",
       "      <td>-1.721573</td>\n",
       "      <td>-5.142335</td>\n",
       "      <td>-0.607158</td>\n",
       "      <td>-0.941360</td>\n",
       "      <td>-0.721567</td>\n",
       "      <td>1.130976</td>\n",
       "      <td>-0.692727</td>\n",
       "    </tr>\n",
       "    <tr>\n",
       "      <th>...</th>\n",
       "      <td>...</td>\n",
       "      <td>...</td>\n",
       "      <td>...</td>\n",
       "      <td>...</td>\n",
       "      <td>...</td>\n",
       "      <td>...</td>\n",
       "      <td>...</td>\n",
       "      <td>...</td>\n",
       "      <td>...</td>\n",
       "      <td>...</td>\n",
       "      <td>...</td>\n",
       "    </tr>\n",
       "    <tr>\n",
       "      <th>Roselawn</th>\n",
       "      <td>0.190671</td>\n",
       "      <td>0.140143</td>\n",
       "      <td>-0.694185</td>\n",
       "      <td>0.220615</td>\n",
       "      <td>0.312084</td>\n",
       "      <td>-2.870566</td>\n",
       "      <td>0.331307</td>\n",
       "      <td>0.241264</td>\n",
       "      <td>-0.747314</td>\n",
       "      <td>0.186156</td>\n",
       "      <td>0.293128</td>\n",
       "    </tr>\n",
       "    <tr>\n",
       "      <th>Runnymede, Swansea</th>\n",
       "      <td>0.026915</td>\n",
       "      <td>0.038278</td>\n",
       "      <td>0.052845</td>\n",
       "      <td>0.043116</td>\n",
       "      <td>0.059341</td>\n",
       "      <td>0.044758</td>\n",
       "      <td>0.070149</td>\n",
       "      <td>-1.000000</td>\n",
       "      <td>0.054144</td>\n",
       "      <td>0.061309</td>\n",
       "      <td>0.055602</td>\n",
       "    </tr>\n",
       "    <tr>\n",
       "      <th>Ryerson, Garden District</th>\n",
       "      <td>0.283617</td>\n",
       "      <td>-0.058402</td>\n",
       "      <td>-1.227489</td>\n",
       "      <td>0.538695</td>\n",
       "      <td>-3.337298</td>\n",
       "      <td>-2.764137</td>\n",
       "      <td>-2.197155</td>\n",
       "      <td>-1.573404</td>\n",
       "      <td>-0.233956</td>\n",
       "      <td>-1.554419</td>\n",
       "      <td>-0.221361</td>\n",
       "    </tr>\n",
       "    <tr>\n",
       "      <th>St. James Town</th>\n",
       "      <td>0.238155</td>\n",
       "      <td>-0.090739</td>\n",
       "      <td>-0.215961</td>\n",
       "      <td>0.488493</td>\n",
       "      <td>-3.385276</td>\n",
       "      <td>-1.781846</td>\n",
       "      <td>-2.251007</td>\n",
       "      <td>-1.616863</td>\n",
       "      <td>-1.374918</td>\n",
       "      <td>-1.585709</td>\n",
       "      <td>-0.279666</td>\n",
       "    </tr>\n",
       "    <tr>\n",
       "      <th>Stn A PO Boxes 25 The Esplanade</th>\n",
       "      <td>0.097341</td>\n",
       "      <td>0.817080</td>\n",
       "      <td>-0.447209</td>\n",
       "      <td>0.300616</td>\n",
       "      <td>-3.613924</td>\n",
       "      <td>-0.915721</td>\n",
       "      <td>-2.492217</td>\n",
       "      <td>-0.754044</td>\n",
       "      <td>-0.505572</td>\n",
       "      <td>-1.754506</td>\n",
       "      <td>-0.495998</td>\n",
       "    </tr>\n",
       "    <tr>\n",
       "      <th>Studio District</th>\n",
       "      <td>0.295524</td>\n",
       "      <td>-0.804802</td>\n",
       "      <td>0.308224</td>\n",
       "      <td>-0.718540</td>\n",
       "      <td>-0.692273</td>\n",
       "      <td>0.226631</td>\n",
       "      <td>0.390991</td>\n",
       "      <td>-0.736648</td>\n",
       "      <td>0.298300</td>\n",
       "      <td>-1.784656</td>\n",
       "      <td>0.361041</td>\n",
       "    </tr>\n",
       "    <tr>\n",
       "      <th>The Annex, North Midtown, Yorkville</th>\n",
       "      <td>-1.558780</td>\n",
       "      <td>-0.605186</td>\n",
       "      <td>0.635743</td>\n",
       "      <td>-0.424492</td>\n",
       "      <td>-1.465711</td>\n",
       "      <td>-1.621978</td>\n",
       "      <td>0.682013</td>\n",
       "      <td>-0.539667</td>\n",
       "      <td>0.575873</td>\n",
       "      <td>-0.494391</td>\n",
       "      <td>-0.392228</td>\n",
       "    </tr>\n",
       "    <tr>\n",
       "      <th>The Beaches</th>\n",
       "      <td>0.212561</td>\n",
       "      <td>0.211399</td>\n",
       "      <td>0.359768</td>\n",
       "      <td>0.267622</td>\n",
       "      <td>0.351701</td>\n",
       "      <td>-1.838409</td>\n",
       "      <td>0.389889</td>\n",
       "      <td>-2.849174</td>\n",
       "      <td>0.324273</td>\n",
       "      <td>-0.761441</td>\n",
       "      <td>0.322542</td>\n",
       "    </tr>\n",
       "    <tr>\n",
       "      <th>The Beaches West, India Bazaar</th>\n",
       "      <td>0.122560</td>\n",
       "      <td>-0.931666</td>\n",
       "      <td>0.126667</td>\n",
       "      <td>0.156575</td>\n",
       "      <td>0.166670</td>\n",
       "      <td>0.105329</td>\n",
       "      <td>0.174353</td>\n",
       "      <td>-0.900413</td>\n",
       "      <td>0.124909</td>\n",
       "      <td>-0.908636</td>\n",
       "      <td>0.155777</td>\n",
       "    </tr>\n",
       "    <tr>\n",
       "      <th>The Danforth West, Riverdale</th>\n",
       "      <td>0.184207</td>\n",
       "      <td>0.144907</td>\n",
       "      <td>0.257345</td>\n",
       "      <td>0.211323</td>\n",
       "      <td>0.257508</td>\n",
       "      <td>-0.878486</td>\n",
       "      <td>0.274794</td>\n",
       "      <td>-0.838331</td>\n",
       "      <td>0.228095</td>\n",
       "      <td>-0.854519</td>\n",
       "      <td>-0.838102</td>\n",
       "    </tr>\n",
       "  </tbody>\n",
       "</table>\n",
       "<p>38 rows × 11 columns</p>\n",
       "</div>"
      ],
      "text/plain": [
       "                                                      Museum  Comic Shop  \\\n",
       "Neighborhood                                                               \n",
       "Adelaide, King, Richmond                            0.079635   -0.212054   \n",
       "Berczy Park                                         0.097341    0.817080   \n",
       "Brockton, Exhibition Place, Parkdale Village        0.322880    0.248881   \n",
       "Business Reply Mail Processing Centre 969 Eastern   0.154018   -0.932691   \n",
       "CN Tower, Bathurst Quay, Island airport, Harbou...  0.522922    0.368440   \n",
       "Cabbagetown, St. James Town                         0.838069   -1.403333   \n",
       "Central Bay Street                                 -0.088037   -0.332225   \n",
       "Chinatown, Grange Park, Kensington Market           0.332453    0.263725   \n",
       "Christie                                           -0.906916    0.104605   \n",
       "Church and Wellesley                               -0.031699   -1.279243   \n",
       "...                                                      ...         ...   \n",
       "Roselawn                                            0.190671    0.140143   \n",
       "Runnymede, Swansea                                  0.026915    0.038278   \n",
       "Ryerson, Garden District                            0.283617   -0.058402   \n",
       "St. James Town                                      0.238155   -0.090739   \n",
       "Stn A PO Boxes 25 The Esplanade                     0.097341    0.817080   \n",
       "Studio District                                     0.295524   -0.804802   \n",
       "The Annex, North Midtown, Yorkville                -1.558780   -0.605186   \n",
       "The Beaches                                         0.212561    0.211399   \n",
       "The Beaches West, India Bazaar                      0.122560   -0.931666   \n",
       "The Danforth West, Riverdale                        0.184207    0.144907   \n",
       "\n",
       "                                                    Steakhouse  \\\n",
       "Neighborhood                                                     \n",
       "Adelaide, King, Richmond                             -0.493005   \n",
       "Berczy Park                                          -0.447209   \n",
       "Brockton, Exhibition Place, Parkdale Village          0.514279   \n",
       "Business Reply Mail Processing Centre 969 Eastern     0.150250   \n",
       "CN Tower, Bathurst Quay, Island airport, Harbou...   -0.240899   \n",
       "Cabbagetown, St. James Town                           0.170087   \n",
       "Central Bay Street                                   -0.761059   \n",
       "Chinatown, Grange Park, Kensington Market            -0.584272   \n",
       "Christie                                              0.168263   \n",
       "Church and Wellesley                                 -0.598604   \n",
       "...                                                        ...   \n",
       "Roselawn                                             -0.694185   \n",
       "Runnymede, Swansea                                    0.052845   \n",
       "Ryerson, Garden District                             -1.227489   \n",
       "St. James Town                                       -0.215961   \n",
       "Stn A PO Boxes 25 The Esplanade                      -0.447209   \n",
       "Studio District                                       0.308224   \n",
       "The Annex, North Midtown, Yorkville                   0.635743   \n",
       "The Beaches                                           0.359768   \n",
       "The Beaches West, India Bazaar                        0.126667   \n",
       "The Danforth West, Riverdale                          0.257345   \n",
       "\n",
       "                                                    Mediterranean Restaurant  \\\n",
       "Neighborhood                                                                   \n",
       "Adelaide, King, Richmond                                            0.293252   \n",
       "Berczy Park                                                         0.300616   \n",
       "Brockton, Exhibition Place, Parkdale Village                        0.395630   \n",
       "Business Reply Mail Processing Centre 969 Eastern                   0.184440   \n",
       "CN Tower, Bathurst Quay, Island airport, Harbou...                 -0.439422   \n",
       "Cabbagetown, St. James Town                                        -0.026364   \n",
       "Central Bay Street                                                  0.083365   \n",
       "Chinatown, Grange Park, Kensington Market                          -0.665362   \n",
       "Christie                                                            0.156330   \n",
       "Church and Wellesley                                                0.174392   \n",
       "...                                                                      ...   \n",
       "Roselawn                                                            0.220615   \n",
       "Runnymede, Swansea                                                  0.043116   \n",
       "Ryerson, Garden District                                            0.538695   \n",
       "St. James Town                                                      0.488493   \n",
       "Stn A PO Boxes 25 The Esplanade                                     0.300616   \n",
       "Studio District                                                    -0.718540   \n",
       "The Annex, North Midtown, Yorkville                                -0.424492   \n",
       "The Beaches                                                         0.267622   \n",
       "The Beaches West, India Bazaar                                      0.156575   \n",
       "The Danforth West, Riverdale                                        0.211323   \n",
       "\n",
       "                                                       Hotel  \\\n",
       "Neighborhood                                                   \n",
       "Adelaide, King, Richmond                           -3.684512   \n",
       "Berczy Park                                        -3.613924   \n",
       "Brockton, Exhibition Place, Parkdale Village       -2.747488   \n",
       "Business Reply Mail Processing Centre 969 Eastern  -0.892671   \n",
       "CN Tower, Bathurst Quay, Island airport, Harbou... -3.498917   \n",
       "Cabbagetown, St. James Town                        -1.949334   \n",
       "Central Bay Street                                 -1.817890   \n",
       "Chinatown, Grange Park, Kensington Market          -0.575590   \n",
       "Christie                                            0.180249   \n",
       "Church and Wellesley                               -1.721573   \n",
       "...                                                      ...   \n",
       "Roselawn                                            0.312084   \n",
       "Runnymede, Swansea                                  0.059341   \n",
       "Ryerson, Garden District                           -3.337298   \n",
       "St. James Town                                     -3.385276   \n",
       "Stn A PO Boxes 25 The Esplanade                    -3.613924   \n",
       "Studio District                                    -0.692273   \n",
       "The Annex, North Midtown, Yorkville                -1.465711   \n",
       "The Beaches                                         0.351701   \n",
       "The Beaches West, India Bazaar                      0.166670   \n",
       "The Danforth West, Riverdale                        0.257508   \n",
       "\n",
       "                                                    Japanese Restaurant  \\\n",
       "Neighborhood                                                              \n",
       "Adelaide, King, Richmond                                      -1.963568   \n",
       "Berczy Park                                                   -0.915721   \n",
       "Brockton, Exhibition Place, Parkdale Village                  -1.746051   \n",
       "Business Reply Mail Processing Centre 969 Eastern              0.112372   \n",
       "CN Tower, Bathurst Quay, Island airport, Harbou...            -1.511528   \n",
       "Cabbagetown, St. James Town                                   -2.234081   \n",
       "Central Bay Street                                            -2.145668   \n",
       "Chinatown, Grange Park, Kensington Market                     -0.684459   \n",
       "Christie                                                      -0.933951   \n",
       "Church and Wellesley                                          -5.142335   \n",
       "...                                                                 ...   \n",
       "Roselawn                                                      -2.870566   \n",
       "Runnymede, Swansea                                             0.044758   \n",
       "Ryerson, Garden District                                      -2.764137   \n",
       "St. James Town                                                -1.781846   \n",
       "Stn A PO Boxes 25 The Esplanade                               -0.915721   \n",
       "Studio District                                                0.226631   \n",
       "The Annex, North Midtown, Yorkville                           -1.621978   \n",
       "The Beaches                                                   -1.838409   \n",
       "The Beaches West, India Bazaar                                 0.105329   \n",
       "The Danforth West, Riverdale                                  -0.878486   \n",
       "\n",
       "                                                     Theater  Thai Restaurant  \\\n",
       "Neighborhood                                                                    \n",
       "Adelaide, King, Richmond                           -1.477969        -0.802465   \n",
       "Berczy Park                                        -2.492217        -0.754044   \n",
       "Brockton, Exhibition Place, Parkdale Village       -0.553575        -0.662312   \n",
       "Business Reply Mail Processing Centre 969 Eastern   0.193772         0.158928   \n",
       "CN Tower, Bathurst Quay, Island airport, Harbou... -0.224064         0.601278   \n",
       "Cabbagetown, St. James Town                        -1.918816        -2.133683   \n",
       "Central Bay Street                                 -1.805079         0.019003   \n",
       "Chinatown, Grange Park, Kensington Market          -0.567301        -0.674189   \n",
       "Christie                                            0.169039         0.132982   \n",
       "Church and Wellesley                               -0.607158        -0.941360   \n",
       "...                                                      ...              ...   \n",
       "Roselawn                                            0.331307         0.241264   \n",
       "Runnymede, Swansea                                  0.070149        -1.000000   \n",
       "Ryerson, Garden District                           -2.197155        -1.573404   \n",
       "St. James Town                                     -2.251007        -1.616863   \n",
       "Stn A PO Boxes 25 The Esplanade                    -2.492217        -0.754044   \n",
       "Studio District                                     0.390991        -0.736648   \n",
       "The Annex, North Midtown, Yorkville                 0.682013        -0.539667   \n",
       "The Beaches                                         0.389889        -2.849174   \n",
       "The Beaches West, India Bazaar                      0.174353        -0.900413   \n",
       "The Danforth West, Riverdale                        0.274794        -0.838331   \n",
       "\n",
       "                                                       Plaza  Farmers Market  \\\n",
       "Neighborhood                                                                   \n",
       "Adelaide, King, Richmond                           -0.564122       -0.769006   \n",
       "Berczy Park                                        -0.505572       -1.754506   \n",
       "Brockton, Exhibition Place, Parkdale Village        0.491565        0.398039   \n",
       "Business Reply Mail Processing Centre 969 Eastern   0.151017       -0.899869   \n",
       "CN Tower, Bathurst Quay, Island airport, Harbou... -1.354206        0.615035   \n",
       "Cabbagetown, St. James Town                         0.113107       -0.033207   \n",
       "Central Bay Street                                  0.239086        0.036273   \n",
       "Chinatown, Grange Park, Kensington Market           0.471294        0.395422   \n",
       "Christie                                            0.139851       -0.918333   \n",
       "Church and Wellesley                               -0.721567        1.130976   \n",
       "...                                                      ...             ...   \n",
       "Roselawn                                           -0.747314        0.186156   \n",
       "Runnymede, Swansea                                  0.054144        0.061309   \n",
       "Ryerson, Garden District                           -0.233956       -1.554419   \n",
       "St. James Town                                     -1.374918       -1.585709   \n",
       "Stn A PO Boxes 25 The Esplanade                    -0.505572       -1.754506   \n",
       "Studio District                                     0.298300       -1.784656   \n",
       "The Annex, North Midtown, Yorkville                 0.575873       -0.494391   \n",
       "The Beaches                                         0.324273       -0.761441   \n",
       "The Beaches West, India Bazaar                      0.124909       -0.908636   \n",
       "The Danforth West, Riverdale                        0.228095       -0.854519   \n",
       "\n",
       "                                                    Concert Hall  \n",
       "Neighborhood                                                      \n",
       "Adelaide, King, Richmond                               -0.539085  \n",
       "Berczy Park                                            -0.495998  \n",
       "Brockton, Exhibition Place, Parkdale Village            0.462340  \n",
       "Business Reply Mail Processing Centre 969 Eastern       0.176465  \n",
       "CN Tower, Bathurst Quay, Island airport, Harbou...      0.767927  \n",
       "Cabbagetown, St. James Town                             0.141383  \n",
       "Central Bay Street                                     -1.872094  \n",
       "Chinatown, Grange Park, Kensington Market              -0.590724  \n",
       "Christie                                                0.170504  \n",
       "Church and Wellesley                                   -0.692727  \n",
       "...                                                          ...  \n",
       "Roselawn                                                0.293128  \n",
       "Runnymede, Swansea                                      0.055602  \n",
       "Ryerson, Garden District                               -0.221361  \n",
       "St. James Town                                         -0.279666  \n",
       "Stn A PO Boxes 25 The Esplanade                        -0.495998  \n",
       "Studio District                                         0.361041  \n",
       "The Annex, North Midtown, Yorkville                    -0.392228  \n",
       "The Beaches                                             0.322542  \n",
       "The Beaches West, India Bazaar                          0.155777  \n",
       "The Danforth West, Riverdale                           -0.838102  \n",
       "\n",
       "[38 rows x 11 columns]"
      ]
     },
     "execution_count": 110,
     "metadata": {},
     "output_type": "execute_result"
    }
   ],
   "source": [
    "top_cluster_predictions[top_cluster]-toronto_top_cluster"
   ]
  },
  {
   "cell_type": "code",
   "execution_count": null,
   "metadata": {},
   "outputs": [],
   "source": []
  }
 ],
 "metadata": {
  "kernelspec": {
   "display_name": "Python 3",
   "language": "python",
   "name": "python3"
  },
  "language_info": {
   "codemirror_mode": {
    "name": "ipython",
    "version": 3
   },
   "file_extension": ".py",
   "mimetype": "text/x-python",
   "name": "python",
   "nbconvert_exporter": "python",
   "pygments_lexer": "ipython3",
   "version": "3.7.0"
  }
 },
 "nbformat": 4,
 "nbformat_minor": 2
}
